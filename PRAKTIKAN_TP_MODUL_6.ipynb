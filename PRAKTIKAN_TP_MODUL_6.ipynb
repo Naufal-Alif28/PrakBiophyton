{
  "nbformat": 4,
  "nbformat_minor": 0,
  "metadata": {
    "colab": {
      "provenance": [],
      "include_colab_link": true
    },
    "kernelspec": {
      "name": "python3",
      "display_name": "Python 3"
    },
    "language_info": {
      "name": "python"
    }
  },
  "cells": [
    {
      "cell_type": "markdown",
      "metadata": {
        "id": "view-in-github",
        "colab_type": "text"
      },
      "source": [
        "<a href=\"https://colab.research.google.com/github/Naufal-Alif28/PrakBiophyton/blob/main/PRAKTIKAN_TP_MODUL_6.ipynb\" target=\"_parent\"><img src=\"https://colab.research.google.com/assets/colab-badge.svg\" alt=\"Open In Colab\"/></a>"
      ]
    },
    {
      "cell_type": "markdown",
      "source": [
        "##TUGAS PENDAHULUAN MODUL 6: PENGENALAN BIOPYTHON\n",
        "\n",
        "# NAMA :\n",
        "# NIM  :"
      ],
      "metadata": {
        "id": "Abwc0DFdMi6H"
      }
    },
    {
      "cell_type": "markdown",
      "source": [
        "## 1. DASAR BIOPHYTON\n",
        "\n",
        "Astari adalah RnD di PT. Biobased Technology. Pada suatu hari, dia menerima sampel 16s rRNA untuk dilakukan identifikasi. Tim RnD merencanakan untuk menggunakan bakteri tersebut untuk mengembangkan produk. Setelah melakukan sequencing, diperoleh sekuen sebagai berikut\n",
        ">>\n",
        "ATGGGAGAGTTTGATCCTGGCTCAGGACGAACGCTGGCGGCGTGCCTAATACATGCAAGTAGAACGCTGAAGAGAGGAGCTTGCTCTTCTTGGATGAGTTGCGAACGGGTGAGTAACGCGTAGGTAACCTGCCTTGTAGCGGGGGATAACTATTGGAAACGATAGCTAATACCGCATAACAATGGATGACACATGTCATTTATTTGAAAGGGGCAATTGCTCCACTACAAGATGGACCTGCGTTGTATTAGCTAGTAGGTGAGGTAATGGCTCACCTAGGCGACGATACATAGCCGACCTGAGAGGGTGATCGGCCACACTGGGACTGAGACACGGCCCAGACTCCTACGGGAGGCAGCAGTAGGGAATCTTCGGCAATGGGGGCAACCCTGACCGAGCAACGCCGCGTGAGTGAAGAAGGTTTTCGGATCGTAAAGCTCTGTTGTAAGTCAAGAACGGGTGTGAGAGTGGAAAGTTCACACTGTGACGGTAGCTTACCAGAAAGGGACGGCTAACTACGTGCCAGCAGCCGCGGTAATACGTAGGTCCCGAGCGTTGTCCGGATTTATTGGGCGTAAAGCGAGCGCAGGCGGTTTGATAAGTCTGAAGTTAAAGGCTGTGGCTCAACCATAGTTCGCTTTGGAAACTGTCAAACTTGAGTGCAGAAGGGGAGAGTGGAATTCCATGTGTAGCGGTGAAATGCGTAGATATATGGAGGAACACCGGTGGCGAAAGCGGCTCTCTGGTCTGTAACTGACGCTGAGGCTCGAAAGCGTGGGGAGCGAACAGGATTAGATACCCTGGTAGTCCACGCCGTAAACGATGAGTGCTAGGTGTTGGATCCTTTCCGGGATTCAGTGCCGCAGCTAACGCATTAAGCACTCCGCCTGGGGAGTACGACCGCAAGGTTGAAACTCAAAGGAATTGACGGGGGCCCGCACAAGCGGTGGAGCATGTGGTTTAATTCGAAGCAACGCGAAGAACCTTACCAGGTCTTGACATCCCGATGCTATTTCTAGAGATAGAAAGTTACTTCGGTACATCGGTGACAGGTGGTGCATGGTTGTCGTCAGCTCGTGTCGTGAGATGTTGGGTTAAGTCCCGCAACGAGCGCAACCCCTATTGTTAGTTGCCATCATTCAGTTGGGCACTCTAGCGAGACTGCCGGTAATAAACCGGAGGAAGGTGGGGATGACGTCAAATCATCATGCCCCTTATGACCTGGGCTACACACGTGCTACAATGGTTGGTACAACGAGTTGCGAGTCGGTGACGGCGAGCTAATCTCTTAAAGCCAATCTCAGTTCGGATTGTAGGCTGCAACTCGCCTACATGAAGTCGGAATCGCTAGTAATCGCGGATCAGCACGCCGCGGTGAATACGTTCCCGGGCCTTGTACACACCGCCCGTCACACCACGAGAGTTTGTAACACCCGAAGTCGGTGAGGTAACCTTTTGGAGCCAGCCGCCTAAGGTGGGACAGATGATTGGGGTGAAGTCGTAACAAGGTAGCCGTATCGGAAGGTGCGGCTGGATCAC"
      ],
      "metadata": {
        "id": "lvOiUFxeNNWn"
      }
    },
    {
      "cell_type": "markdown",
      "source": [
        "\n",
        "**Instruksi 1**\n",
        "Instal biopython untuk membantu Astari!"
      ],
      "metadata": {
        "id": "MzMqvGMeRbYw"
      }
    },
    {
      "cell_type": "code",
      "source": [],
      "metadata": {
        "id": "L5bpwTuLRsTl"
      },
      "execution_count": null,
      "outputs": []
    },
    {
      "cell_type": "markdown",
      "source": [
        "**Instruksi 2**\n",
        "Bantu Astari menghitung jumlah dan persentase A,T,C,dan G dari sekuens tersebut!"
      ],
      "metadata": {
        "id": "6Zhxm_BuRnDL"
      }
    },
    {
      "cell_type": "code",
      "source": [],
      "metadata": {
        "id": "xlWqf5yRRsyV"
      },
      "execution_count": null,
      "outputs": []
    },
    {
      "cell_type": "markdown",
      "source": [
        "**Instruksi 3**\n",
        "Bantu Astari menentukan jenis bakteri tersebut!"
      ],
      "metadata": {
        "id": "h8iosgFlRgUo"
      }
    },
    {
      "cell_type": "code",
      "source": [],
      "metadata": {
        "id": "hMZb82aPRtdq"
      },
      "execution_count": null,
      "outputs": []
    },
    {
      "cell_type": "markdown",
      "source": [
        "**Instruksi 4**\n",
        "Untuk mempermudah pekerjaan, buatkan pie chart untuk setiap persentase A,T,C, dan G!"
      ],
      "metadata": {
        "id": "GSj6WaooSgWA"
      }
    },
    {
      "cell_type": "code",
      "source": [],
      "metadata": {
        "id": "ZPP787YsS4LW"
      },
      "execution_count": null,
      "outputs": []
    },
    {
      "cell_type": "markdown",
      "source": [
        "## 2. Analisis Sequence\n",
        "\n",
        "Terdapat sekuens \"S\" dengan urutan basa nitrogen (\"ATGCCGTAGGTACGGTAGGAT\").\n",
        "Masukan sekuens tersebut ke dalam environment notebook dengan nama sekuens \"S\""
      ],
      "metadata": {
        "id": "EJ7Bgn-4TmD_"
      }
    },
    {
      "cell_type": "code",
      "source": [],
      "metadata": {
        "id": "emfDY165UEcD"
      },
      "execution_count": null,
      "outputs": []
    },
    {
      "cell_type": "markdown",
      "source": [
        "Potong sekuens pada urutan 10-15. Beri nama sekuens yang sudah dislice menjadi \"Sliced_S\""
      ],
      "metadata": {
        "id": "bAbaJhGxUE3W"
      }
    },
    {
      "cell_type": "code",
      "source": [],
      "metadata": {
        "id": "dchaP3SXUZqR"
      },
      "execution_count": null,
      "outputs": []
    },
    {
      "cell_type": "markdown",
      "source": [
        "Gabungkan sekuens-sekuens ini dengan spacer (\"GGGGGGGGG\")\n",
        "<br>\n",
        "seq_a = (\"TGCTGATCGATGCCTAGT\")<br>\n",
        "seq_b = (\"TCGAAACGATCGATCGTG\")<br>\n",
        "seq_c = (\"GCTAGCTGATGTAACATC\")"
      ],
      "metadata": {
        "id": "JovRv1g_Ury0"
      }
    },
    {
      "cell_type": "code",
      "source": [],
      "metadata": {
        "id": "u1Hu3wHTU6Fd"
      },
      "execution_count": null,
      "outputs": []
    }
  ]
}